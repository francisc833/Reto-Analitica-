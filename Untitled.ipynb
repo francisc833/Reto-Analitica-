{
 "cells": [
  {
   "cell_type": "code",
   "execution_count": null,
   "id": "5cedfd0c-346c-40b4-bc2c-b0b62d611188",
   "metadata": {},
   "outputs": [],
   "source": [
    "import pandas as pd\n",
    "import numpy as np"
   ]
  },
  {
   "cell_type": "markdown",
   "id": "d4cb6855-8f96-40df-9f99-e3a62937582f",
   "metadata": {},
   "source": [
    "# Cargar el archivo diabetes.csv\n"
   ]
  },
  {
   "cell_type": "code",
   "execution_count": null,
   "id": "ba0e6b57-9982-4ac7-8aa8-ea9717567dfd",
   "metadata": {},
   "outputs": [],
   "source": [
    "df = pd.read_csv(\"diabetes.csv\")"
   ]
  },
  {
   "cell_type": "markdown",
   "id": "835a2190-51f6-42a0-afc2-ac39c2f6ec7f",
   "metadata": {},
   "source": [
    "# Mostrar primeras filas\n"
   ]
  },
  {
   "cell_type": "code",
   "execution_count": null,
   "id": "401064c9-4ec2-4809-9e59-4deae6c6c301",
   "metadata": {},
   "outputs": [],
   "source": [
    "df.head()"
   ]
  },
  {
   "cell_type": "markdown",
   "id": "2a52b6b0-5019-4c80-b977-6d5f77eb02c9",
   "metadata": {},
   "source": [
    "# Dimensiones del dataset"
   ]
  },
  {
   "cell_type": "code",
   "execution_count": null,
   "id": "d84827af-fd45-4021-b8dc-cf3dd83c31fe",
   "metadata": {},
   "outputs": [],
   "source": [
    "print(\"Cantidad de filas y columnas:\", df.shape)"
   ]
  },
  {
   "cell_type": "markdown",
   "id": "443f1339-0edc-431e-808b-a8273f380d17",
   "metadata": {},
   "source": [
    "# Nombre de las variables"
   ]
  },
  {
   "cell_type": "code",
   "execution_count": null,
   "id": "d8efc621-a8f1-4dca-8f15-421208778a76",
   "metadata": {},
   "outputs": [],
   "source": [
    "print(\"Variables:\", df.columns.tolist())"
   ]
  },
  {
   "cell_type": "markdown",
   "id": "4a0814e2-090f-4845-b063-b9ca343955aa",
   "metadata": {},
   "source": [
    "# Tipos de variables"
   ]
  },
  {
   "cell_type": "code",
   "execution_count": null,
   "id": "c04de109-1f99-4f16-aa26-8a6a015bafda",
   "metadata": {},
   "outputs": [],
   "source": [
    "print(\"Tipos de datos:\")\n",
    "print(df.dtypes)"
   ]
  },
  {
   "cell_type": "markdown",
   "id": "15586dc8-f088-4445-89f9-07de2c04b647",
   "metadata": {},
   "source": [
    "# Estadísticas generales"
   ]
  },
  {
   "cell_type": "code",
   "execution_count": null,
   "id": "8347639e-4038-4903-8616-c465b2653070",
   "metadata": {},
   "outputs": [],
   "source": [
    "df.describe()"
   ]
  },
  {
   "cell_type": "markdown",
   "id": "61f0a20e-027a-43f6-b65d-4e392c7147d9",
   "metadata": {},
   "source": [
    "# Rango de cada variable (máximo - mínimo)"
   ]
  },
  {
   "cell_type": "code",
   "execution_count": null,
   "id": "b346817b-cb57-4c5d-86a4-144fce3bc035",
   "metadata": {},
   "outputs": [],
   "source": [
    "rango = df.max() - df.min()\n",
    "print(\"Rangos de cada variable:\")\n",
    "print(rango)"
   ]
  },
  {
   "cell_type": "markdown",
   "id": "50711870-2af7-403e-a5f5-6320f4650607",
   "metadata": {},
   "source": [
    "# Calcular medidas estadísticas"
   ]
  },
  {
   "cell_type": "code",
   "execution_count": 2,
   "id": "7db713d0-a283-40ef-87e0-5f0f2b811ea7",
   "metadata": {},
   "outputs": [
    {
     "data": {
      "text/html": [
       "<div>\n",
       "<style scoped>\n",
       "    .dataframe tbody tr th:only-of-type {\n",
       "        vertical-align: middle;\n",
       "    }\n",
       "\n",
       "    .dataframe tbody tr th {\n",
       "        vertical-align: top;\n",
       "    }\n",
       "\n",
       "    .dataframe thead th {\n",
       "        text-align: right;\n",
       "    }\n",
       "</style>\n",
       "<table border=\"1\" class=\"dataframe\">\n",
       "  <thead>\n",
       "    <tr style=\"text-align: right;\">\n",
       "      <th></th>\n",
       "      <th>Media</th>\n",
       "      <th>Mediana</th>\n",
       "      <th>Desviación estándar</th>\n",
       "    </tr>\n",
       "  </thead>\n",
       "  <tbody>\n",
       "    <tr>\n",
       "      <th>Pregnancies</th>\n",
       "      <td>3.845052</td>\n",
       "      <td>3.0000</td>\n",
       "      <td>3.369578</td>\n",
       "    </tr>\n",
       "    <tr>\n",
       "      <th>Glucose</th>\n",
       "      <td>120.894531</td>\n",
       "      <td>117.0000</td>\n",
       "      <td>31.972618</td>\n",
       "    </tr>\n",
       "    <tr>\n",
       "      <th>BloodPressure</th>\n",
       "      <td>69.105469</td>\n",
       "      <td>72.0000</td>\n",
       "      <td>19.355807</td>\n",
       "    </tr>\n",
       "    <tr>\n",
       "      <th>SkinThickness</th>\n",
       "      <td>20.536458</td>\n",
       "      <td>23.0000</td>\n",
       "      <td>15.952218</td>\n",
       "    </tr>\n",
       "    <tr>\n",
       "      <th>Insulin</th>\n",
       "      <td>79.799479</td>\n",
       "      <td>30.5000</td>\n",
       "      <td>115.244002</td>\n",
       "    </tr>\n",
       "    <tr>\n",
       "      <th>BMI</th>\n",
       "      <td>31.992578</td>\n",
       "      <td>32.0000</td>\n",
       "      <td>7.884160</td>\n",
       "    </tr>\n",
       "    <tr>\n",
       "      <th>DiabetesPedigreeFunction</th>\n",
       "      <td>0.471876</td>\n",
       "      <td>0.3725</td>\n",
       "      <td>0.331329</td>\n",
       "    </tr>\n",
       "    <tr>\n",
       "      <th>Age</th>\n",
       "      <td>33.240885</td>\n",
       "      <td>29.0000</td>\n",
       "      <td>11.760232</td>\n",
       "    </tr>\n",
       "    <tr>\n",
       "      <th>Outcome</th>\n",
       "      <td>0.348958</td>\n",
       "      <td>0.0000</td>\n",
       "      <td>0.476951</td>\n",
       "    </tr>\n",
       "  </tbody>\n",
       "</table>\n",
       "</div>"
      ],
      "text/plain": [
       "                               Media   Mediana  Desviación estándar\n",
       "Pregnancies                 3.845052    3.0000             3.369578\n",
       "Glucose                   120.894531  117.0000            31.972618\n",
       "BloodPressure              69.105469   72.0000            19.355807\n",
       "SkinThickness              20.536458   23.0000            15.952218\n",
       "Insulin                    79.799479   30.5000           115.244002\n",
       "BMI                        31.992578   32.0000             7.884160\n",
       "DiabetesPedigreeFunction    0.471876    0.3725             0.331329\n",
       "Age                        33.240885   29.0000            11.760232\n",
       "Outcome                     0.348958    0.0000             0.476951"
      ]
     },
     "execution_count": 2,
     "metadata": {},
     "output_type": "execute_result"
    }
   ],
   "source": [
    "medidas = pd.DataFrame({\n",
    "    \"Media\": df.mean(),\n",
    "    \"Mediana\": df.median(),\n",
    "    \"Desviación estándar\": df.std()\n",
    "})\n",
    "medidas"
   ]
  },
  {
   "cell_type": "markdown",
   "id": "4251f94e-32a0-4a78-8482-48495a7004d6",
   "metadata": {},
   "source": [
    "Al revisar el análisis descriptivo del dataset de diabetes me encontré con que varias variables como la glucosa, la presión arterial, el grosor de la piel, la insulina y el índice de masa corporal presentan valores mínimos de cero, lo cual no es realista porque nadie puede tener glucosa o presión en cero, así que eso me hace pensar que en realidad son datos faltantes o mal registrados. También noté que la edad tiene un promedio cercano a los 33 años, aunque aparecen personas mucho mayores, incluso arriba de los 80, lo que refleja que la población del estudio es bastante amplia en ese aspecto. El BMI está en promedio alrededor de 31, lo que da a entender que la mayoría de las personas analizadas están en rangos de sobrepeso u obesidad. En el caso de la insulina, la desviación estándar salió muy alta, lo que muestra que hay bastante dispersión y también outliers dentro de esos datos. La variable de resultado (Outcome) está más o menos balanceada, aunque todavía se nota que hay más casos de personas sin diabetes que con diabetes. En general, pienso que este dataset sí necesita una limpieza previa, sobre todo para tratar esos ceros que parecen valores faltantes, antes de poder usarlo en modelos predictivos o análisis más avanzados."
   ]
  }
 ],
 "metadata": {
  "kernelspec": {
   "display_name": "Python 3 (ipykernel)",
   "language": "python",
   "name": "python3"
  },
  "language_info": {
   "codemirror_mode": {
    "name": "ipython",
    "version": 3
   },
   "file_extension": ".py",
   "mimetype": "text/x-python",
   "name": "python",
   "nbconvert_exporter": "python",
   "pygments_lexer": "ipython3",
   "version": "3.9.6"
  }
 },
 "nbformat": 4,
 "nbformat_minor": 5
}
